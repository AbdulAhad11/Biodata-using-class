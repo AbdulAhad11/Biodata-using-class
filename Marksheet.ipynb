{
  "nbformat": 4,
  "nbformat_minor": 0,
  "metadata": {
    "colab": {
      "name": "Untitled1.ipynb",
      "provenance": [],
      "collapsed_sections": []
    },
    "kernelspec": {
      "name": "python3",
      "display_name": "Python 3"
    },
    "language_info": {
      "name": "python"
    }
  },
  "cells": [
    {
      "cell_type": "code",
      "metadata": {
        "colab": {
          "base_uri": "https://localhost:8080/"
        },
        "id": "lP_z8UdMwKjV",
        "outputId": "586befe9-2155-4973-fae8-7c3b5d512d33"
      },
      "source": [
        "class Information:\n",
        "  print(\"Enter your name:\")\n",
        "  name = input()\n",
        "  print(\"Enter your age:\")\n",
        "  age = input()\n",
        "  print(\"Enter your roll number:\")\n",
        "  rollno = int(input())\n",
        "  print(\"Enter your Institute name:\")\n",
        "  inst = input()\n",
        "  def per(self,num1,num2,num3,num4,num5):\n",
        "    percentage = ((num1+num2+num3+num4+num5)/500)*100\n",
        "    return percentage\n",
        "  def avg(self,num1,num2,num3,num4,num5):\n",
        "    average = (num1+num2+num3+num4+num5)/500\n",
        "    return average\n",
        "\n",
        "print(\"Enter the marks of 5 subject \")\n",
        "a = int(input(\"Enter the marks of Python:\"  ))\n",
        "b = int(input(\"Enter the marks of Electronics:\"  ))\n",
        "c = int(input(\"Enter the marks of C:\"  ))\n",
        "d = int(input(\"Enter the marks of Arduino:\"  ))\n",
        "e = int(input(\"Enter the marks of PI:\"  ))\n",
        "p1 = Information()\n",
        "z = p1.per(a,b,c,d,e)\n",
        "y = p1.avg(a,b,c,d,e)\n",
        "print(\"Your Biodata\")\n",
        "txt1 = \"Your name is {}\\nYour age is {}\\nYour Roll Number is {}\\nYour institute is {}\\nYour average is {}\\nYour percentage is {} \".format(Information.name,Information.age,Information.rollno,Information.inst,y,z)\n",
        "print(txt1)"
      ],
      "execution_count": 18,
      "outputs": [
        {
          "output_type": "stream",
          "name": "stdout",
          "text": [
            "Enter your name:\n",
            "Abdul Ahad\n",
            "Enter your age:\n",
            "19\n",
            "Enter your roll number:\n",
            "6\n",
            "Enter your Institute name:\n",
            "NED\n",
            "Enter the marks of 5 subject \n",
            "Enter the marks of Python:78\n",
            "Enter the marks of Electronics:67\n",
            "Enter the marks of C:87\n",
            "Enter the marks of Arduino:76\n",
            "Enter the marks of PI:89\n",
            "Your Biodata\n",
            "Your name is Abdul Ahad\n",
            "Your age is 19\n",
            "Your Roll Number is 6\n",
            "Your institute is NED\n",
            "Your average is 0.794\n",
            "Your percentage is 79.4 \n"
          ]
        }
      ]
    },
    {
      "cell_type": "code",
      "metadata": {
        "id": "DzaBKGHdySvd"
      },
      "source": [
        "\n"
      ],
      "execution_count": null,
      "outputs": []
    }
  ]
}